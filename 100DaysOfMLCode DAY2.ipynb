{
 "cells": [
  {
   "cell_type": "markdown",
   "metadata": {},
   "source": [
    "# PYTHON\n",
    "## Day - 2\n",
    "### FUNCTIONS\n",
    "#### Functions are group of related statement that performs specific task. As our program grows, function helps to break the program into smaller and modular chunks. Function helps to keep our program more organized and manageable.It avoids repetition and make code reusable. "
   ]
  },
  {
   "cell_type": "code",
   "execution_count": 5,
   "metadata": {},
   "outputs": [
    {
     "name": "stdout",
     "output_type": "stream",
     "text": [
      "hai renuka!nice to meet you.\n"
     ]
    }
   ],
   "source": [
    "#function syntax\n",
    "\n",
    "#def function_name(parameters):\n",
    "# \"\"\"docstring\"\"\"\n",
    "#   statement(s)\n",
    "\n",
    "\n",
    "#def : it denotes the start of function header\n",
    "#function name: name of the function to identify the function\n",
    "#parameters : through which we pass the value to a function\n",
    "#: colon denotes the end of function header\n",
    "#docstring : it describes what function does\n",
    "#statement : statements that makeup function body\n",
    "#return : this is optional, it returns the values from the function\n",
    "\n",
    "#example 1\n",
    "def message(name):\n",
    "    \"\"\"This message greets the person when name is given\"\"\"\n",
    "    print(\"hai \"+name+\"!nice to meet you.\")\n",
    "message(\"renuka\")\n"
   ]
  },
  {
   "cell_type": "code",
   "execution_count": 13,
   "metadata": {},
   "outputs": [
    {
     "name": "stdout",
     "output_type": "stream",
     "text": [
      "This message greets the person when name is given\n"
     ]
    }
   ],
   "source": [
    "#Docstring : it describes what actually the function does and it's optional.\n",
    "print(message.__doc__)\n"
   ]
  },
  {
   "cell_type": "code",
   "execution_count": 11,
   "metadata": {},
   "outputs": [
    {
     "name": "stdout",
     "output_type": "stream",
     "text": [
      "5\n",
      "None\n"
     ]
    }
   ],
   "source": [
    "#example 2  with return and without return statements\n",
    "def addition(num1,num2):\n",
    "    num3=num1+num2\n",
    "    return(num3)\n",
    "print(addition(2,3))\n",
    "##This statement can contain an expression that gets evaluated and the value is returned.\n",
    "\n",
    "#without return\n",
    "def addition(num1,num2):\n",
    "    num3=num1+num2\n",
    "print(addition(2,3))\n",
    "\n",
    "\n",
    "#here,there is no expression in the statement or the return statement itself is not present inside a function, then the function will return the None object."
   ]
  },
  {
   "cell_type": "code",
   "execution_count": 16,
   "metadata": {},
   "outputs": [
    {
     "name": "stdout",
     "output_type": "stream",
     "text": [
      "Hello renu, Good morning!\n",
      "Hello sam, How do you do?\n"
     ]
    }
   ],
   "source": [
    "#Python Default Arguments\n",
    "#Function arguments can have default values in Python.\n",
    "#We can provide a default value to an argument by using the assignment operator (=). Here is an example.\n",
    "\n",
    "def message(name, msg=\"Good morning!\"): #name is the positional argument and msg is the keyword argument\n",
    "    \"\"\"\n",
    "    This function greets to\n",
    "    the person with the\n",
    "    provided message.\n",
    "\n",
    "    If the message is not provided,\n",
    "    it defaults to \"Good\n",
    "    morning!\"\n",
    "    \"\"\"\n",
    "\n",
    "    print(\"Hello\", name + ', ' + msg)\n",
    "\n",
    "\n",
    "message(\"renu\")\n",
    "message(\"sam\", \"How do you do?\")"
   ]
  },
  {
   "cell_type": "code",
   "execution_count": 18,
   "metadata": {},
   "outputs": [
    {
     "name": "stdout",
     "output_type": "stream",
     "text": [
      "('renuka', 'ryker')\n",
      "{'dob': 20, 'age': 22}\n"
     ]
    }
   ],
   "source": [
    "def hello(*args,**kwargs):\n",
    "    print(args)\n",
    "    print(kwargs)\n",
    "hello('renuka','ryker',dob=20,age=22)    "
   ]
  },
  {
   "cell_type": "code",
   "execution_count": 35,
   "metadata": {},
   "outputs": [
    {
     "ename": "TypeError",
     "evalue": "dogs() missing 1 required positional argument: 'breed'",
     "output_type": "error",
     "traceback": [
      "\u001b[1;31m---------------------------------------------------------------------------\u001b[0m",
      "\u001b[1;31mTypeError\u001b[0m                                 Traceback (most recent call last)",
      "\u001b[1;32m<ipython-input-35-be5fcdb3831c>\u001b[0m in \u001b[0;36m<module>\u001b[1;34m\u001b[0m\n\u001b[0;32m      3\u001b[0m     \u001b[0mprint\u001b[0m\u001b[1;33m(\u001b[0m\u001b[0mname\u001b[0m\u001b[1;33m)\u001b[0m\u001b[1;33m\u001b[0m\u001b[1;33m\u001b[0m\u001b[0m\n\u001b[0;32m      4\u001b[0m     \u001b[0mprint\u001b[0m\u001b[1;33m(\u001b[0m\u001b[0mbreed\u001b[0m\u001b[1;33m)\u001b[0m\u001b[1;33m\u001b[0m\u001b[1;33m\u001b[0m\u001b[0m\n\u001b[1;32m----> 5\u001b[1;33m \u001b[0mprint\u001b[0m\u001b[1;33m(\u001b[0m\u001b[0mdogs\u001b[0m\u001b[1;33m(\u001b[0m\u001b[1;34m\"ryker\"\u001b[0m\u001b[1;33m)\u001b[0m\u001b[1;33m)\u001b[0m\u001b[1;33m\u001b[0m\u001b[1;33m\u001b[0m\u001b[0m\n\u001b[0m\u001b[0;32m      6\u001b[0m \u001b[1;33m\u001b[0m\u001b[0m\n\u001b[0;32m      7\u001b[0m \u001b[1;33m\u001b[0m\u001b[0m\n",
      "\u001b[1;31mTypeError\u001b[0m: dogs() missing 1 required positional argument: 'breed'"
     ]
    }
   ],
   "source": [
    "#without default/keyword argument\n",
    "def dogs(name,breed):\n",
    "    print(name)\n",
    "    print(breed)\n",
    "print(dogs(\"ryker\"))\n",
    "\n",
    "\n",
    "\n",
    "    \n",
    "\n",
    "    \n"
   ]
  },
  {
   "cell_type": "code",
   "execution_count": 32,
   "metadata": {},
   "outputs": [
    {
     "name": "stdout",
     "output_type": "stream",
     "text": [
      "ryker\n",
      "retriever\n"
     ]
    }
   ],
   "source": [
    "\n",
    "#with default/keyword argument\n",
    "def dogs(name,breed=\"retriever\"):\n",
    "    print(name)\n",
    "    print(breed)\n",
    "dogs('ryker')"
   ]
  },
  {
   "cell_type": "code",
   "execution_count": 36,
   "metadata": {},
   "outputs": [
    {
     "name": "stdout",
     "output_type": "stream",
     "text": [
      "ryker beagle\n"
     ]
    }
   ],
   "source": [
    "#normal\n",
    "\n",
    "def dogs(name,breed):\n",
    "    print(name,breed)\n",
    "\n",
    "dogs(\"ryker\",\"beagle\") "
   ]
  },
  {
   "cell_type": "code",
   "execution_count": 37,
   "metadata": {},
   "outputs": [
    {
     "name": "stdout",
     "output_type": "stream",
     "text": [
      "hai renuka\n",
      "hai ryker\n",
      "hai sam\n",
      "hai cooper\n"
     ]
    }
   ],
   "source": [
    "#Python Arbitrary Arguments\n",
    "\n",
    "#Sometimes, we do not know in advance the number of arguments that will be passed into a function. \n",
    "#Python allows us to handle this kind of situation through function calls with an arbitrary number of arguments.\n",
    "#here,we use an asterisk (*) before the parameter name to denote this kind of argument.\n",
    "#example\n",
    "\n",
    "def detail(*names):\n",
    "    for name in names:\n",
    "        print(\"hai \"+name)\n",
    "detail('renuka','ryker','sam','cooper')        \n",
    "        \n"
   ]
  },
  {
   "cell_type": "markdown",
   "metadata": {},
   "source": [
    "#### PYTHON RECURSION\n",
    "\n",
    "##### Recursion is the process of defining something in terms of itself."
   ]
  },
  {
   "cell_type": "code",
   "execution_count": 41,
   "metadata": {},
   "outputs": [
    {
     "name": "stdout",
     "output_type": "stream",
     "text": [
      "factorial of 3  is  6\n"
     ]
    }
   ],
   "source": [
    "#example for recursion\n",
    "#factorial of a number\n",
    "def factorial(num):\n",
    "    if num==1:\n",
    "        return 1\n",
    "    else:\n",
    "        return(num*factorial(num-1))  #here factorial function calling itself\n",
    "num=3\n",
    "print(\"factorial of\",num,\" is \" ,factorial(num))"
   ]
  },
  {
   "cell_type": "code",
   "execution_count": 42,
   "metadata": {},
   "outputs": [
    {
     "name": "stdout",
     "output_type": "stream",
     "text": [
      "7\n"
     ]
    }
   ],
   "source": [
    "#python Lambda/anonymous function\n",
    "#In Python, an anonymous function is a function that is defined without a name.\n",
    "#While normal functions are defined using the def keyword in Python, anonymous functions are defined using the lambda keyword.\n",
    "#Hence, anonymous functions are also called lambda functions.\n",
    "#example: \n",
    "addition = lambda x: x + 2\n",
    "\n",
    "print(addition(5))\n",
    "\n",
    "#addition is the name to which we call \n",
    "#x is the parameter\n",
    "#x+2 is the expression\n",
    "#this is same as,\n",
    "# def addition(x):\n",
    " #   return x+2\n",
    "#addition(5) \n",
    "    "
   ]
  },
  {
   "cell_type": "code",
   "execution_count": 45,
   "metadata": {},
   "outputs": [
    {
     "name": "stdout",
     "output_type": "stream",
     "text": [
      "[2, 4, 12]\n"
     ]
    }
   ],
   "source": [
    "#FILTER FUNCTION\n",
    "#The filter() function in Python takes in a function and a list as arguments.\n",
    "#The function is called with all the items in the list and a new list is returned which contains items for which the function evaluates to True.\n",
    "list_given = [1, 2, 3, 4, 5, 11, 3, 12]\n",
    "\n",
    "new_list = list(filter(lambda x: (x%2 == 0) , list_given))\n",
    "\n",
    "print(new_list)"
   ]
  },
  {
   "cell_type": "code",
   "execution_count": 47,
   "metadata": {},
   "outputs": [
    {
     "name": "stdout",
     "output_type": "stream",
     "text": [
      "[5, 25, 20, 30, 40, 55, 15, 60]\n"
     ]
    }
   ],
   "source": [
    "#MAP FUNCTION\n",
    "#The map() function in Python takes in a function and a list.\n",
    "#The function is called with all the items in the list and a new list is returned which contains items returned by that function for each item.\n",
    "#EXAMPLE\n",
    "list1 = [1, 5, 4, 6, 8, 11, 3, 12]\n",
    "\n",
    "new_list = list(map(lambda x: x * 5 , list1))\n",
    "\n",
    "print(new_list)"
   ]
  },
  {
   "cell_type": "code",
   "execution_count": null,
   "metadata": {},
   "outputs": [],
   "source": []
  },
  {
   "cell_type": "code",
   "execution_count": null,
   "metadata": {},
   "outputs": [],
   "source": []
  },
  {
   "cell_type": "code",
   "execution_count": null,
   "metadata": {},
   "outputs": [],
   "source": []
  },
  {
   "cell_type": "code",
   "execution_count": null,
   "metadata": {},
   "outputs": [],
   "source": []
  }
 ],
 "metadata": {
  "kernelspec": {
   "display_name": "Python 3",
   "language": "python",
   "name": "python3"
  },
  "language_info": {
   "codemirror_mode": {
    "name": "ipython",
    "version": 3
   },
   "file_extension": ".py",
   "mimetype": "text/x-python",
   "name": "python",
   "nbconvert_exporter": "python",
   "pygments_lexer": "ipython3",
   "version": "3.7.4"
  }
 },
 "nbformat": 4,
 "nbformat_minor": 2
}
