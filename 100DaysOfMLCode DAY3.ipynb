{
 "cells": [
  {
   "cell_type": "markdown",
   "metadata": {},
   "source": [
    "# NUMPY\n",
    "\n",
    "## DAY - 3\n",
    "\n",
    "#### NumPy is a general-purpose array-processing package. It provides a high-performance multidimensional array object, and tools for working with these arrays. It is the fundamental package for scientific computing with PythonThe NumPy package is the workhorse of data analysis, machine learning, and scientific computing in the python ecosystem. Some of python’s leading package rely on NumPy as a fundamental piece of their infrastructure (examples include scikit-learn, SciPy, pandas, and tensorflow). "
   ]
  },
  {
   "cell_type": "code",
   "execution_count": 2,
   "metadata": {},
   "outputs": [],
   "source": [
    "#Importing numpy\n",
    "\n",
    "import numpy as np"
   ]
  },
  {
   "cell_type": "code",
   "execution_count": 6,
   "metadata": {},
   "outputs": [
    {
     "name": "stdout",
     "output_type": "stream",
     "text": [
      "<class 'numpy.ndarray'>\n"
     ]
    }
   ],
   "source": [
    "#numpy / array creation\n",
    "\n",
    "# array ??  array is a data structure that stores the values that belongs to same data type\n",
    "# List ?? list is a data structure in python that stores values having different datatypes.\n",
    "\n",
    "#how array is created?/\n",
    "\n",
    "data=np.array([1,2,3,4,5])\n",
    "print(type(data))\n",
    "\n",
    "#here we create array by initializing array elements by us."
   ]
  },
  {
   "cell_type": "code",
   "execution_count": 36,
   "metadata": {},
   "outputs": [
    {
     "name": "stdout",
     "output_type": "stream",
     "text": [
      "[1. 1. 1.]\n",
      "[0. 0. 0. 0. 0. 0. 0. 0. 0. 0.]\n",
      "[0.92263345 0.16312147 0.20800789 0.50435156 0.71761495 0.65166763\n",
      " 0.40619874 0.18204415 0.24847687 0.38715464]\n",
      "[[1 1 1 1 1]\n",
      " [1 1 1 1 1]\n",
      " [1 1 1 1 1]]\n"
     ]
    }
   ],
   "source": [
    "# there are some cases where we want NumPy to initialize the values of the array for us.\n",
    "#NumPy provides methods like ones(), zeros(), and random.random() for these cases. \n",
    "#We just pass them the number of elements we want it to generate\n",
    "\n",
    "ones=np.ones(3)\n",
    "print(ones)\n",
    "zeros = np.zeros(10)\n",
    "print(zeros)\n",
    "rand = np.random.random(10)\n",
    "print(rand)\n",
    "\n",
    "\n",
    "\n",
    "\n",
    "print(np.ones((3,5),dtype=int)) #defining rows and columns"
   ]
  },
  {
   "cell_type": "code",
   "execution_count": 27,
   "metadata": {},
   "outputs": [
    {
     "data": {
      "text/plain": [
       "array([[ 0,  1,  2,  3,  4],\n",
       "       [ 5,  6,  7,  8,  9],\n",
       "       [10, 11, 12, 13, 14],\n",
       "       [15, 16, 17, 18, 19]])"
      ]
     },
     "execution_count": 27,
     "metadata": {},
     "output_type": "execute_result"
    }
   ],
   "source": [
    "#Reshaping\n",
    "np.arange(1,10).reshape(3,3)\n",
    "np.arange(20).reshape(10,2)\n",
    "np.arange(20).reshape(20,1)\n",
    "np.arange(20).reshape(4,5)"
   ]
  },
  {
   "cell_type": "code",
   "execution_count": 34,
   "metadata": {},
   "outputs": [
    {
     "name": "stdout",
     "output_type": "stream",
     "text": [
      "[1 2 3]\n",
      "[1. 1. 1.]\n",
      "[2. 3. 4.]\n",
      "[0. 1. 2.]\n",
      "[1. 2. 3.]\n",
      "[1. 2. 3.]\n"
     ]
    }
   ],
   "source": [
    "#arithematic operations using numpy\n",
    "data=np.array([1,2,3])\n",
    "print(data)\n",
    "ones=np.ones(3)\n",
    "print(ones)\n",
    "add = data+ones\n",
    "print(add)\n",
    "\n",
    "#subtraction\n",
    "sub=data-ones\n",
    "print(sub)\n",
    "\n",
    "#multiplication\n",
    "mul =data*ones\n",
    "print(mul)\n",
    "\n",
    "#division\n",
    "div=data/ones\n",
    "print(div)"
   ]
  },
  {
   "cell_type": "code",
   "execution_count": 59,
   "metadata": {},
   "outputs": [
    {
     "data": {
      "text/plain": [
       "array([  1, 100, 100, 100])"
      ]
     },
     "execution_count": 59,
     "metadata": {},
     "output_type": "execute_result"
    }
   ],
   "source": [
    "#copy function in Numpy\n",
    "ary = np.array([1,2,3,4])\n",
    "ary[1:]=100\n",
    "ary\n"
   ]
  },
  {
   "cell_type": "code",
   "execution_count": 64,
   "metadata": {},
   "outputs": [
    {
     "name": "stdout",
     "output_type": "stream",
     "text": [
      "[1 2 3 4 5]\n",
      "[  1 100 100 100 100]\n"
     ]
    }
   ],
   "source": [
    "a=np.array([1,2,3,4,5])\n",
    "b=np.copy(a)\n",
    "b[1:]=100\n",
    "print(a)\n",
    "print(b)"
   ]
  },
  {
   "cell_type": "code",
   "execution_count": 46,
   "metadata": {},
   "outputs": [
    {
     "name": "stdout",
     "output_type": "stream",
     "text": [
      "[[1 2]\n",
      " [3 4]\n",
      " [5 6]\n",
      " [7 8]]\n",
      "[1 2]\n",
      "[[3 4]\n",
      " [5 6]\n",
      " [7 8]]\n",
      "[[1 2]\n",
      " [3 4]\n",
      " [5 6]\n",
      " [7 8]]\n"
     ]
    }
   ],
   "source": [
    "#indexing\n",
    "arr=np.array([1,2,3,4,5,6,7,8]).reshape(4,2)\n",
    "print(arr)\n",
    "print(arr[0])\n",
    "print(arr[1:,0:])\n",
    "print(arr[:,:])"
   ]
  },
  {
   "cell_type": "code",
   "execution_count": 47,
   "metadata": {},
   "outputs": [
    {
     "name": "stdout",
     "output_type": "stream",
     "text": [
      "[  1   2 100 100 100]\n"
     ]
    }
   ],
   "source": [
    "array = np.array([1,2,3,4,5])\n",
    "array[2:] = 100\n",
    "print(array)"
   ]
  },
  {
   "cell_type": "code",
   "execution_count": 50,
   "metadata": {},
   "outputs": [
    {
     "data": {
      "text/plain": [
       "array([[0.61112465, 0.75744667, 0.00784581],\n",
       "       [0.86869646, 0.20965746, 0.42754879],\n",
       "       [0.71645332, 0.8521213 , 0.05283865],\n",
       "       [0.99224888, 0.80843107, 0.48416845],\n",
       "       [0.64079816, 0.39620299, 0.55599429],\n",
       "       [0.28917396, 0.15386564, 0.49744886],\n",
       "       [0.48335204, 0.34249693, 0.22579337],\n",
       "       [0.09619588, 0.70673928, 0.85111798],\n",
       "       [0.24198864, 0.21416296, 0.89234   ],\n",
       "       [0.29925805, 0.20119491, 0.47848167],\n",
       "       [0.60212652, 0.44734018, 0.39101344],\n",
       "       [0.30983413, 0.80891117, 0.52518912],\n",
       "       [0.89049077, 0.05603878, 0.97544582]])"
      ]
     },
     "execution_count": 50,
     "metadata": {},
     "output_type": "execute_result"
    }
   ],
   "source": [
    "#random distributions\n",
    "np.random.rand(13,3)\n",
    "#print elements between 0 to 1"
   ]
  },
  {
   "cell_type": "code",
   "execution_count": 51,
   "metadata": {},
   "outputs": [
    {
     "data": {
      "text/plain": [
       "array([[-1.30888495e-01,  9.75667996e-02, -2.30427283e-01,\n",
       "        -2.05978962e+00, -1.14684558e+00,  2.73734415e-01,\n",
       "         1.41018597e+00, -1.16212316e+00, -1.10860201e+00,\n",
       "        -1.02949004e-01],\n",
       "       [ 7.20876313e-01, -3.34072295e-01,  9.72270845e-01,\n",
       "        -1.04942737e+00,  1.37590468e+00, -1.51361435e-03,\n",
       "        -4.78321738e-01,  1.35269308e+00,  1.73925925e+00,\n",
       "         1.05754251e+00],\n",
       "       [-6.68146996e-01,  1.90821206e+00, -3.22018248e-01,\n",
       "        -1.79098790e-01,  1.64802438e-01, -5.70037246e-01,\n",
       "         4.12605047e-01, -9.41243454e-01,  1.03456469e+00,\n",
       "        -1.07824183e+00],\n",
       "       [ 3.31829274e-01,  7.36601176e-01, -7.42808760e-01,\n",
       "         7.29707729e-01, -1.03181794e-01,  1.38401383e+00,\n",
       "        -2.12797780e+00, -4.31180789e-01, -8.88035715e-02,\n",
       "         2.59987886e-01]])"
      ]
     },
     "execution_count": 51,
     "metadata": {},
     "output_type": "execute_result"
    }
   ],
   "source": [
    "np.random.randn(4,10)\n",
    "#print standard distribution"
   ]
  },
  {
   "cell_type": "code",
   "execution_count": 54,
   "metadata": {},
   "outputs": [
    {
     "data": {
      "text/plain": [
       "array([[86, 28],\n",
       "       [49, 39],\n",
       "       [82, 50],\n",
       "       [39, 47]])"
      ]
     },
     "execution_count": 54,
     "metadata": {},
     "output_type": "execute_result"
    }
   ],
   "source": [
    "np.random.randint(10,100,8).reshape(4,2)\n",
    "# randomly select 8 numbers between 10 and 100 "
   ]
  },
  {
   "cell_type": "code",
   "execution_count": 56,
   "metadata": {},
   "outputs": [
    {
     "data": {
      "text/plain": [
       "array([[0.91342442, 0.99065516, 0.42309741, 0.87735919, 0.40589641],\n",
       "       [0.86165456, 0.56644198, 0.5824229 , 0.51206806, 0.4645194 ],\n",
       "       [0.97060016, 0.77746531, 0.74466175, 0.52434805, 0.95385359],\n",
       "       [0.12293312, 0.95255524, 0.07294333, 0.47794642, 0.82698421],\n",
       "       [0.37986554, 0.6677076 , 0.88281364, 0.95430863, 0.85674371],\n",
       "       [0.04574451, 0.14140607, 0.50232924, 0.77120182, 0.91379526],\n",
       "       [0.20483207, 0.68174805, 0.02108395, 0.15317562, 0.10942312],\n",
       "       [0.05667479, 0.97107768, 0.89314819, 0.31984992, 0.6279816 ],\n",
       "       [0.88596348, 0.00895265, 0.19055629, 0.32142699, 0.98097005],\n",
       "       [0.65696186, 0.08066496, 0.01376602, 0.04647344, 0.91202044]])"
      ]
     },
     "execution_count": 56,
     "metadata": {},
     "output_type": "execute_result"
    }
   ],
   "source": [
    "np.random.random_sample((10,5))\n",
    "#numbers between 0.0 to 1.0"
   ]
  }
 ],
 "metadata": {
  "kernelspec": {
   "display_name": "Python 3",
   "language": "python",
   "name": "python3"
  },
  "language_info": {
   "codemirror_mode": {
    "name": "ipython",
    "version": 3
   },
   "file_extension": ".py",
   "mimetype": "text/x-python",
   "name": "python",
   "nbconvert_exporter": "python",
   "pygments_lexer": "ipython3",
   "version": "3.7.4"
  }
 },
 "nbformat": 4,
 "nbformat_minor": 2
}
