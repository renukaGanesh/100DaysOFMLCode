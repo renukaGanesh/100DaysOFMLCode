{
 "cells": [
  {
   "cell_type": "markdown",
   "metadata": {},
   "source": [
    "# 100DaysOfMLCode\n",
    "\n",
    "## DAY 1\n",
    "\n",
    "## Learn Python\n",
    "\n",
    "### Introduction to Python\n",
    "Syntax,\n",
    "Keywords,\n",
    "Variables,\n",
    "Data Types,\n",
    "Operators,\n",
    "ControlFlow,\n",
    "Loops,\n",
    "List,\n",
    "Tuples,\n",
    "Sets,\n",
    "Strings,\n",
    "Dictionary,\n",
    "Functions,\n",
    "modules, \n",
    "packages,\n",
    "Object Oriented Programming concepts\n",
    "\n",
    "\n"
   ]
  },
  {
   "cell_type": "markdown",
   "metadata": {},
   "source": [
    "## PYTHON\n",
    "Python is an intepreted, high level and general purpose programming lanuage. It was created by Guido van Rossum, and released in 1991.\n",
    "Python is a pretty versatile language and has wonderful community.Some basic application of python includes Simple Calculations,To develop a database driven website,Data cleaning and to analyze the results.\n",
    "\n",
    "### Why python is better? \n",
    "Python works on multiple platforms (such as Mac,Windows etc..) and has a simple syntax similar to the English language which allows developers to write programs with fewer lines.Python can be treated in a procedural way, an object-orientated way or a functional way.\n",
    "\n",
    "### What can I build with python after studying???\n",
    "You can build Machine learning models, AI projects , Web applications and many more. Python's flexibility and ability is in such a way that you can really create anything with it.\n",
    "\n",
    "\n",
    "\n"
   ]
  },
  {
   "cell_type": "markdown",
   "metadata": {},
   "source": [
    "### Getting started with Basics"
   ]
  },
  {
   "cell_type": "code",
   "execution_count": 3,
   "metadata": {},
   "outputs": [
    {
     "name": "stdout",
     "output_type": "stream",
     "text": [
      "hello World\n",
      "2\n"
     ]
    }
   ],
   "source": [
    "#Python Basics\n",
    "#Print statement\n",
    "\n",
    "print(\"hello World\")\n",
    "print(1+1)\n"
   ]
  },
  {
   "cell_type": "code",
   "execution_count": 5,
   "metadata": {},
   "outputs": [
    {
     "name": "stdout",
     "output_type": "stream",
     "text": [
      "please enter your name:renuka\n",
      "renuka\n"
     ]
    }
   ],
   "source": [
    "#Getting information from the user and printing it\n",
    "#Here, we are asking the user to enter their name as our input and the name is stored in the name variable.\n",
    "name = input(\"please enter your name:\")\n",
    "#Now the name is printed by using print statement\n",
    "print(name)"
   ]
  },
  {
   "cell_type": "code",
   "execution_count": 13,
   "metadata": {},
   "outputs": [
    {
     "name": "stdout",
     "output_type": "stream",
     "text": [
      "hai\n",
      "\n",
      "welcome\n"
     ]
    }
   ],
   "source": [
    "#printing blank lines to improve readability\n",
    "print(\"hai\")\n",
    "print() #this will create a blank line or simply we can say add down space between hai and welcome.\n",
    "print(\"welcome\")"
   ]
  },
  {
   "cell_type": "code",
   "execution_count": 16,
   "metadata": {},
   "outputs": [
    {
     "name": "stdout",
     "output_type": "stream",
     "text": [
      "welcome\n",
      "3\n"
     ]
    },
    {
     "ename": "NameError",
     "evalue": "name 'ab' is not defined",
     "output_type": "error",
     "traceback": [
      "\u001b[1;31m---------------------------------------------------------------------------\u001b[0m",
      "\u001b[1;31mNameError\u001b[0m                                 Traceback (most recent call last)",
      "\u001b[1;32m<ipython-input-16-c4ffc25dc358>\u001b[0m in \u001b[0;36m<module>\u001b[1;34m\u001b[0m\n\u001b[0;32m      2\u001b[0m \u001b[0mprint\u001b[0m\u001b[1;33m(\u001b[0m\u001b[1;34m\"welcome\"\u001b[0m\u001b[1;33m)\u001b[0m\u001b[1;33m\u001b[0m\u001b[1;33m\u001b[0m\u001b[0m\n\u001b[0;32m      3\u001b[0m \u001b[0mprint\u001b[0m\u001b[1;33m(\u001b[0m\u001b[1;36m1\u001b[0m\u001b[1;33m+\u001b[0m\u001b[1;36m2\u001b[0m\u001b[1;33m)\u001b[0m\u001b[1;33m\u001b[0m\u001b[1;33m\u001b[0m\u001b[0m\n\u001b[1;32m----> 4\u001b[1;33m \u001b[0mprint\u001b[0m\u001b[1;33m(\u001b[0m\u001b[0mab\u001b[0m\u001b[1;33m+\u001b[0m\u001b[0mbc\u001b[0m\u001b[1;33m)\u001b[0m\u001b[1;33m\u001b[0m\u001b[1;33m\u001b[0m\u001b[0m\n\u001b[0m\u001b[0;32m      5\u001b[0m \u001b[1;33m\u001b[0m\u001b[0m\n\u001b[0;32m      6\u001b[0m \u001b[1;31m# first run the code\u001b[0m\u001b[1;33m\u001b[0m\u001b[1;33m\u001b[0m\u001b[1;33m\u001b[0m\u001b[0m\n",
      "\u001b[1;31mNameError\u001b[0m: name 'ab' is not defined"
     ]
    }
   ],
   "source": [
    "#debugging with print\n",
    "print(\"welcome\")\n",
    "print(1+2)\n",
    "print(ab+bc)\n",
    "\n",
    "# first run the code\n",
    "#here, you can see that the output of first 2 line is correctly printed and the problem/error is encountered in the 3rd line."
   ]
  },
  {
   "cell_type": "markdown",
   "metadata": {},
   "source": [
    "### Calculations using Python\n",
    "\n",
    "##### +   Addition\n",
    "##### -     Subtraction\n",
    "##### *     Multiplication\n",
    "##### /     Division\n",
    "##### **   exponentiation\n",
    "##### %   Modulo"
   ]
  },
  {
   "cell_type": "code",
   "execution_count": 17,
   "metadata": {},
   "outputs": [
    {
     "name": "stdout",
     "output_type": "stream",
     "text": [
      "9\n",
      "14\n",
      "20\n",
      "5.0\n",
      "4\n",
      "0\n"
     ]
    }
   ],
   "source": [
    "print(4+5)\n",
    "print(5+9)\n",
    "print(10*2)\n",
    "print(10/2)\n",
    "print(2**2)\n",
    "print(10%2)\n"
   ]
  },
  {
   "cell_type": "markdown",
   "metadata": {},
   "source": [
    "### Comments\n",
    "Comments are added to make sure that you and others can understand what the code is about.To comment,you have to use # tag. Comments will not run as python code"
   ]
  },
  {
   "cell_type": "code",
   "execution_count": 18,
   "metadata": {},
   "outputs": [
    {
     "ename": "SyntaxError",
     "evalue": "invalid syntax (<ipython-input-18-a68b4bc2ff0f>, line 2)",
     "output_type": "error",
     "traceback": [
      "\u001b[1;36m  File \u001b[1;32m\"<ipython-input-18-a68b4bc2ff0f>\"\u001b[1;36m, line \u001b[1;32m2\u001b[0m\n\u001b[1;33m    print(hello world)\u001b[0m\n\u001b[1;37m                    ^\u001b[0m\n\u001b[1;31mSyntaxError\u001b[0m\u001b[1;31m:\u001b[0m invalid syntax\n"
     ]
    }
   ],
   "source": [
    "#hello world is printed\n",
    "print(\"hello world\")"
   ]
  },
  {
   "cell_type": "markdown",
   "metadata": {},
   "source": [
    "#### Keywords in python\n",
    "Keywords are the reserved words in Python. We cannot use a keyword as variable name, function name or any other identifier.\n",
    "\n"
   ]
  },
  {
   "cell_type": "code",
   "execution_count": 30,
   "metadata": {},
   "outputs": [
    {
     "name": "stdout",
     "output_type": "stream",
     "text": [
      "None\n",
      "None\n"
     ]
    }
   ],
   "source": [
    "#Keywords and their examples\n",
    "\n",
    "#NONE\n",
    "#None is a special keyword. None does no t imply False , 0 , nulllist or anything.\n",
    "None==False\n",
    "None==[]\n",
    "None==0    \n",
    "\n",
    "\n",
    "#Void functions that do not return anything will return a None object automatically.\n",
    "def void_function():    \n",
    "    a=1\n",
    "    b=2\n",
    "    c=a+b\n",
    "x=void_function()\n",
    "print(x)\n",
    "\n",
    "#None is also returned by functions in which the program flow does not encounter a return statement.\n",
    "def no_return_function(a):\n",
    "    a=1\n",
    "    b=2\n",
    "    c=a+b\n",
    "\n",
    "x = no_return_function(3)\n",
    "print(x)"
   ]
  },
  {
   "cell_type": "code",
   "execution_count": null,
   "metadata": {},
   "outputs": [],
   "source": []
  },
  {
   "cell_type": "markdown",
   "metadata": {},
   "source": [
    "#### Python variables and types\n",
    "Python variables are specific, case sensitive and we can call up particular value by its variable name.\n",
    "Type function is used to check the datatype in python. Most common data types are string, integer, float, boolean\n",
    "##### Int :   Integer, a number without fractional part\n",
    "##### Float :   A number that has both integer part and fractional part\n",
    "##### str:   String, a type to represent text. You need to use either ' '  or '' ''  to represnt string in python\n",
    "##### Bool:   A type that is used to represent boolean values "
   ]
  },
  {
   "cell_type": "code",
   "execution_count": 156,
   "metadata": {},
   "outputs": [
    {
     "name": "stdout",
     "output_type": "stream",
     "text": [
      "True\n",
      "True\n",
      "False\n",
      "True\n",
      "False\n",
      "False\n",
      "False\n",
      "False\n",
      "True\n"
     ]
    }
   ],
   "source": [
    "#Python variable assignment\n",
    "#syntax ---->   variable_name = value\n",
    "#strings can also be stored in variable\n",
    "name=\"Renuka\"\n",
    "#to check the datatype\n",
    "type(name)\n",
    "type(True)\n",
    "type(1)\n",
    "\n",
    "\n",
    "#string functions\n",
    "\n",
    "print(name.isalnum()) #check if all char are numbers\n",
    "print(name.isalpha()) #check if all char in the string are alphabetic\n",
    "print(name.isdigit()) #test if string contains digits\n",
    "print(name.istitle()) #test if string contains title words\n",
    "print(name.isupper()) #test if string contains upper case\n",
    "print(name.islower()) #test if string contains lower case\n",
    "print(name.isspace()) #test if string contains spaces\n",
    "print(name.endswith('g')) #test if string endswith a g\n",
    "print(name.startswith('R')) #test if string startswith R\n",
    "\n",
    "\n",
    "\n",
    "\n"
   ]
  },
  {
   "cell_type": "code",
   "execution_count": 159,
   "metadata": {},
   "outputs": [
    {
     "data": {
      "text/plain": [
       "'python'"
      ]
     },
     "execution_count": 159,
     "metadata": {},
     "output_type": "execute_result"
    }
   ],
   "source": [
    "my_str=\"python\"\n",
    "my_str.upper()\n",
    "my_str.lower()"
   ]
  },
  {
   "cell_type": "code",
   "execution_count": 40,
   "metadata": {},
   "outputs": [
    {
     "name": "stdout",
     "output_type": "stream",
     "text": [
      "enter the first number:1\n",
      "enter the second number:2\n",
      "3\n",
      "<class 'int'>\n"
     ]
    }
   ],
   "source": [
    "#simple operations using varibale assignment and checking its types.\n",
    "#Question : Get 2 numbers from the user and perform addition and store the result in another variable and print its type\n",
    "#note:Getting input from user will always accepts in string format\n",
    "number1 = input(\"enter the first number:\")\n",
    "number2 =  input(\"enter the second number:\")\n",
    "number3=int(number1)+int(number2)\n",
    "print(number3)\n",
    "print(type(number3))"
   ]
  },
  {
   "cell_type": "code",
   "execution_count": 43,
   "metadata": {},
   "outputs": [
    {
     "name": "stdout",
     "output_type": "stream",
     "text": [
      "200\n",
      "2.0\n",
      "0\n",
      "202.0\n"
     ]
    }
   ],
   "source": [
    "#Mathematical Operations using Variable assignment\n",
    "a = 20\n",
    "b=10\n",
    "print(a*b)\n",
    "print(a/b)\n",
    "print(a%b)\n",
    "print((a*b)+(a/b)) # BODMAS"
   ]
  },
  {
   "cell_type": "code",
   "execution_count": 50,
   "metadata": {},
   "outputs": [
    {
     "name": "stdout",
     "output_type": "stream",
     "text": [
      "My first name is Renuka and my last name is G\n",
      "My first name is Renuka and my last name is G\n"
     ]
    }
   ],
   "source": [
    "#another different way of print statement\n",
    "first_name = \"Renuka\"\n",
    "last_name=\"G\"\n",
    "print(\"My first name is {} and my last name is {}\".format(first_name,last_name))\n",
    "print(\"My first name is {fn} and my last name is {ln}\".format(fn=first_name,ln=last_name))"
   ]
  },
  {
   "cell_type": "markdown",
   "metadata": {},
   "source": [
    "### Python Data Structures\n",
    "\n",
    "##### List is a data structure in python  and has ordered sequence of elements.Each element or value inside the list is known as item\n",
    "##### Sets is a data structure that is iterable, mutable and this Data structure is based upon hash table\n",
    "##### Dictionary is a collection which is unordered, changeable and indexed. In Python dictionaries are written with curly brackets, and they have keys and values.\n",
    "##### Tuples are immutable"
   ]
  },
  {
   "cell_type": "code",
   "execution_count": null,
   "metadata": {},
   "outputs": [],
   "source": [
    "### LIST \n",
    "list_example=[]\n",
    "print(type(list_example))\n",
    "\n",
    "\n",
    "lst=list()\n",
    "print(type(lst))\n",
    "\n",
    "lst=['chem','math',30,20,40,60]\n",
    "len(lst)\n",
    "\n",
    "#List functions\n",
    "lst.append(90)\n",
    "print(lst)\n",
    "#for more than one element, it becomes a list within a list\n",
    "lst.append([90,\"sam\"])\n",
    "print(lst)\n",
    "# when printed, we het list within a list instead of single list\n",
    "#we use EXTEND to solve this\n",
    "lst.extend([\"bio\",80])\n",
    "print(lst)\n",
    "\n",
    "#Indexing\n",
    "lst.index('bio')\n",
    "#to print first 3 elements\n",
    "lst[0:4]\n",
    "lst[1:] #from inedex 1 to all other elements\n",
    "\n",
    "#to add element at particular index\n",
    "lst.insert(0,\"renu\") #inserting new element renu at index position 0 \n",
    "print(lst)\n",
    "#another way\n",
    "lst=lst+[\"renuka\"]\n",
    "lst\n",
    "\n",
    "#delete\n",
    "del(lst[1])\n",
    "del(lst[7])\n",
    "lst\n",
    "\n",
    "#we can also use pop function\n",
    "lst.pop(1)\n",
    "lst\n",
    "\n",
    "lst1= [1,2,3,4,5,6,8]\n",
    "len(lst1) # length of list1\n",
    "lst1.count(1) # to count the number of ones in the lst1\n",
    "lst1.index(3,1,4) #searching 3 within the range between 1 to 4\n",
    "\n",
    "#min function\n",
    "min(lst1)\n",
    "#max function\n",
    "max(lst1)"
   ]
  },
  {
   "cell_type": "code",
   "execution_count": 134,
   "metadata": {},
   "outputs": [
    {
     "data": {
      "text/plain": [
       "{'Avengers', 'Hitman', 'iron man'}"
      ]
     },
     "execution_count": 134,
     "metadata": {},
     "output_type": "execute_result"
    }
   ],
   "source": [
    "#SETS\n",
    "set_var=set()\n",
    "type(set_var)\n",
    "\n",
    "set_var={1,2,3,4}\n",
    "\n",
    "sets={\"Avengers\",\"iron man\",\"Hitman\"}\n",
    "sets.add(\"hulk\")\n",
    "sets\n",
    "\n",
    "\n",
    "#difference\n",
    "set1={\"Avengers\",\"iron man\",\"Hitman\"}\n",
    "set2={'Avengers', 'Hitman', 'hulk', 'iron man'}\n",
    "set2.difference(set1) # item which is not common is displayed\n",
    "\n",
    "set2.intersection(set1) #common items are displayed"
   ]
  },
  {
   "cell_type": "code",
   "execution_count": 147,
   "metadata": {},
   "outputs": [
    {
     "name": "stdout",
     "output_type": "stream",
     "text": [
      "retriever\n",
      "dog1\n",
      "dog2\n",
      "dog3\n",
      "retriever\n",
      "beagle\n",
      "husky\n",
      "('dog1', 'retriever')\n",
      "('dog2', 'beagle')\n",
      "('dog3', 'husky')\n"
     ]
    },
    {
     "data": {
      "text/plain": [
       "{'dog1': 'retriever', 'dog2': 'labrador', 'dog3': 'husky', 'dog4': 'pitbull'}"
      ]
     },
     "execution_count": 147,
     "metadata": {},
     "output_type": "execute_result"
    }
   ],
   "source": [
    "#Dictionaries\n",
    "my_dict={\"dog1\":\"retriever\",\"dog2\":\"beagle\",\"dog3\":\"husky\"}\n",
    "print(my_dict[\"dog1\"])\n",
    "\n",
    "#to get the keys\n",
    "for x in my_dict:\n",
    "    print(x)\n",
    "    \n",
    "#for getting the values    \n",
    "for x in my_dict.values():\n",
    "    print(x)\n",
    "\n",
    "#for getting both key and values\n",
    "for x in my_dict.items():\n",
    "    print(x)\n",
    "    \n",
    "    \n",
    "#adding elements to the dictionary\n",
    "my_dict[\"dog4\"] = \"pitbull\"\n",
    "my_dict\n",
    "#overidden is also possible\n",
    "my_dict[\"dog2\"] = \"labrador\"\n",
    "my_dict"
   ]
  },
  {
   "cell_type": "code",
   "execution_count": 148,
   "metadata": {},
   "outputs": [
    {
     "name": "stdout",
     "output_type": "stream",
     "text": [
      "{'car1': {'Mercedes': 1960}, 'car2': {'Audi': 1970}, 'car3': {'Ambassador': 1980}}\n",
      "{'Mercedes': 1960}\n",
      "1960\n"
     ]
    }
   ],
   "source": [
    "#Nested Dictionary\n",
    "car1_model={'Mercedes':1960}\n",
    "car2_model={'Audi':1970}\n",
    "car3_model={'Ambassador':1980}\n",
    "\n",
    "car_type={'car1':car1_model,'car2':car2_model,'car3':car3_model}\n",
    "\n",
    "print(car_type)\n",
    "## Accessing the items in the dictionary\n",
    "\n",
    "print(car_type['car1'])\n",
    "print(car_type['car1']['Mercedes'])\n"
   ]
  },
  {
   "cell_type": "code",
   "execution_count": 160,
   "metadata": {},
   "outputs": [
    {
     "data": {
      "text/plain": [
       "'data science'"
      ]
     },
     "execution_count": 160,
     "metadata": {},
     "output_type": "execute_result"
    }
   ],
   "source": [
    "#Tuples\n",
    "#tuples cannot be modified\n",
    "my_tuple=tuple()\n",
    "type(tuple())\n",
    "\n",
    "my_tuple=(\"renuka\",\"python\",\"data science\")\n",
    "my_tuple.count(\"renuka\")\n",
    "my_tuple[2]"
   ]
  },
  {
   "cell_type": "markdown",
   "metadata": {},
   "source": [
    "## Python Flow Control\n",
    "\n",
    "#### Python if..else\n",
    "#### Python for loop\n",
    "#### Python while loop\n",
    "\n"
   ]
  },
  {
   "cell_type": "code",
   "execution_count": 161,
   "metadata": {},
   "outputs": [
    {
     "name": "stdout",
     "output_type": "stream",
     "text": [
      "3 is a positive number.\n",
      "This is always printed.\n"
     ]
    }
   ],
   "source": [
    "#python if statement\n",
    "num = 3\n",
    "if num > 0:\n",
    "    print(num, \"is a positive number.\")\n",
    "print(\"This is always printed.\")\n"
   ]
  },
  {
   "cell_type": "code",
   "execution_count": 162,
   "metadata": {},
   "outputs": [
    {
     "name": "stdout",
     "output_type": "stream",
     "text": [
      "Positive or Zero\n"
     ]
    }
   ],
   "source": [
    "#python if else statement\n",
    "num=3\n",
    "\n",
    "if num >= 0:\n",
    "    print(\"Positive or Zero\")\n",
    "else:\n",
    "    print(\"Negative number\")"
   ]
  },
  {
   "cell_type": "code",
   "execution_count": 163,
   "metadata": {},
   "outputs": [
    {
     "name": "stdout",
     "output_type": "stream",
     "text": [
      "Positive number\n"
     ]
    }
   ],
   "source": [
    "# python if elif else statement\n",
    "num = 3.4\n",
    "if num > 0:\n",
    "    print(\"Positive number\")\n",
    "elif num == 0:\n",
    "    print(\"Zero\")\n",
    "else:\n",
    "    print(\"Negative number\")"
   ]
  },
  {
   "cell_type": "code",
   "execution_count": 164,
   "metadata": {},
   "outputs": [
    {
     "name": "stdout",
     "output_type": "stream",
     "text": [
      "Enter a number: 55\n",
      "Positive number\n"
     ]
    }
   ],
   "source": [
    "#python nested if statement\n",
    "num = int(input(\"Enter a number: \"))\n",
    "if num >= 0:\n",
    "    if num == 0:\n",
    "        print(\"Zero\")\n",
    "    else:\n",
    "        print(\"Positive number\")\n",
    "else:\n",
    "    print(\"Negative number\")"
   ]
  },
  {
   "cell_type": "code",
   "execution_count": 165,
   "metadata": {},
   "outputs": [
    {
     "name": "stdout",
     "output_type": "stream",
     "text": [
      "The sum is 48\n"
     ]
    }
   ],
   "source": [
    "#The for loop in Python is used to iterate over a sequence (list, tuple, string) or other iterable objects. Iterating over a sequence is called traversal.\n",
    "#python for loop \n",
    "\n",
    "# List of numbers\n",
    "numbers = [6, 5, 3, 8, 4, 2, 5, 4, 11]\n",
    "\n",
    "# variable to store the sum\n",
    "sum = 0\n",
    "\n",
    "# iterate over the list\n",
    "for val in numbers:\n",
    "    sum = sum+val\n",
    "\n",
    "print(\"The sum is\", sum)"
   ]
  },
  {
   "cell_type": "code",
   "execution_count": 170,
   "metadata": {},
   "outputs": [
    {
     "name": "stdout",
     "output_type": "stream",
     "text": [
      "[1, 2, 3, 4, 5, 6, 7, 8, 9]\n",
      "I like pop\n",
      "I like rock\n",
      "I like jazz\n"
     ]
    }
   ],
   "source": [
    "#range\n",
    "num = list(range(1,10))\n",
    "print(num)\n",
    "\n",
    "#for loop using range function\n",
    "genre = ['pop', 'rock', 'jazz']\n",
    "\n",
    "# iterate over the list using index\n",
    "for i in range(len(genre)):\n",
    "    print(\"I like\", genre[i])"
   ]
  },
  {
   "cell_type": "code",
   "execution_count": 172,
   "metadata": {},
   "outputs": [
    {
     "name": "stdout",
     "output_type": "stream",
     "text": [
      "No entry with that name found.\n"
     ]
    }
   ],
   "source": [
    "#using for else loop\n",
    "student_name = 'Sammy'\n",
    "\n",
    "marks = {'James': 90, 'Jules': 55, 'Arthur': 77}\n",
    "\n",
    "for student in marks:\n",
    "    if student == student_name:\n",
    "        print(marks[student])\n",
    "        break\n",
    "else:\n",
    "    print('No entry with that name found.')"
   ]
  },
  {
   "cell_type": "code",
   "execution_count": 173,
   "metadata": {},
   "outputs": [
    {
     "name": "stdout",
     "output_type": "stream",
     "text": [
      "The sum is 55\n"
     ]
    }
   ],
   "source": [
    "#python while loop\n",
    "\n",
    "n = 10\n",
    "\n",
    "# initialize sum and counter\n",
    "sum = 0\n",
    "i = 1\n",
    "\n",
    "while i <= n:\n",
    "    sum = sum + i\n",
    "    i = i+1    # update counter\n",
    "\n",
    "# print the sum\n",
    "print(\"The sum is\", sum)"
   ]
  },
  {
   "cell_type": "code",
   "execution_count": 176,
   "metadata": {},
   "outputs": [
    {
     "name": "stdout",
     "output_type": "stream",
     "text": [
      "lesser\n",
      "lesser\n",
      "lesser\n",
      "bigger\n"
     ]
    }
   ],
   "source": [
    "#python while else loop\n",
    "i = 0\n",
    "\n",
    "while i < 3:\n",
    "    print(\"lesser\")\n",
    "    i = i + 1\n",
    "else:\n",
    "    print(\"bigger\")\n"
   ]
  },
  {
   "cell_type": "code",
   "execution_count": null,
   "metadata": {},
   "outputs": [],
   "source": []
  },
  {
   "cell_type": "code",
   "execution_count": null,
   "metadata": {},
   "outputs": [],
   "source": []
  },
  {
   "cell_type": "code",
   "execution_count": null,
   "metadata": {},
   "outputs": [],
   "source": []
  }
 ],
 "metadata": {
  "kernelspec": {
   "display_name": "Python 3",
   "language": "python",
   "name": "python3"
  },
  "language_info": {
   "codemirror_mode": {
    "name": "ipython",
    "version": 3
   },
   "file_extension": ".py",
   "mimetype": "text/x-python",
   "name": "python",
   "nbconvert_exporter": "python",
   "pygments_lexer": "ipython3",
   "version": "3.7.4"
  }
 },
 "nbformat": 4,
 "nbformat_minor": 2
}
